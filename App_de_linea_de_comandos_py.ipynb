{
  "nbformat": 4,
  "nbformat_minor": 0,
  "metadata": {
    "colab": {
      "provenance": [],
      "authorship_tag": "ABX9TyOW4YEniRTfzGTobxjAOvKO",
      "include_colab_link": true
    },
    "kernelspec": {
      "name": "python3",
      "display_name": "Python 3"
    },
    "language_info": {
      "name": "python"
    }
  },
  "cells": [
    {
      "cell_type": "markdown",
      "metadata": {
        "id": "view-in-github",
        "colab_type": "text"
      },
      "source": [
        "<a href=\"https://colab.research.google.com/github/Ray-Phamton/Visualizar-archivos-drive/blob/main/App_de_linea_de_comandos_py.ipynb\" target=\"_parent\"><img src=\"https://colab.research.google.com/assets/colab-badge.svg\" alt=\"Open In Colab\"/></a>"
      ]
    },
    {
      "cell_type": "code",
      "execution_count": null,
      "metadata": {
        "id": "xtMMRlgmaG5N",
        "colab": {
          "base_uri": "https://localhost:8080/"
        },
        "outputId": "f2fce7d9-ab14-43a9-b0d4-041b850ddff0"
      },
      "outputs": [
        {
          "output_type": "stream",
          "name": "stdout",
          "text": [
            "Mounted at /content/drive\n",
            "Archivos en el directorio:\n",
            "General.py\n",
            "App de linea de comandos (CLI).py\n"
          ]
        }
      ],
      "source": [
        "#miapp.py\n",
        "from google.colab import drive\n",
        "import os\n",
        "\n",
        "# Montar Google Drive\n",
        "drive.mount('/content/drive')\n",
        "\n",
        "# Definir el directorio\n",
        "DIRECTORY = '/content/drive/My Drive/Colab Notebooks'\n",
        "\n",
        "# Listar archivos en el directorio\n",
        "def list_files_in_directory(DIRECTORY):\n",
        "    try:\n",
        "        files = os.listdir(DIRECTORY)\n",
        "        print(\"Archivos en el directorio:\")\n",
        "        for file in files:\n",
        "            print(file)\n",
        "    except FileNotFoundError:\n",
        "        print(\"Directorio no encontrado.\")\n",
        "\n",
        "# Llamar a la función\n",
        "list_files_in_directory(DIRECTORY)"
      ]
    }
  ]
}